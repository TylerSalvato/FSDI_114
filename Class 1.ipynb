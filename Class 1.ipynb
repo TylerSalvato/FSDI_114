{
 "cells": [
  {
   "cell_type": "code",
   "execution_count": 1,
   "id": "85268520-84de-4970-b9f9-1a30e1762dbd",
   "metadata": {},
   "outputs": [
    {
     "name": "stdout",
     "output_type": "stream",
     "text": [
      "h\n",
      "e\n",
      "l\n",
      "l\n",
      "o\n",
      ",\n",
      " \n",
      "w\n",
      "o\n",
      "r\n",
      "l\n",
      "d\n",
      "!\n"
     ]
    }
   ],
   "source": [
    "for char in \"hello, world!\": \n",
    "    print(char)\n",
    "    "
   ]
  },
  {
   "cell_type": "markdown",
   "id": "8e494637-c2c8-4520-b593-4b644b165278",
   "metadata": {},
   "source": [
    "# Problem 1\n",
    "\n",
    "## Anagram Check\n",
    "\n",
    "### Given two strings as parameters, generate a function that returns True if these are anagrams of each other, False otherwise.\n",
    "\n",
    "#### Criteria\n",
    "Two strings are anagrams of each other if all of the conditions below are emt:\n",
    "1. They must use the same exact letters, the same amount of times.\n",
    "2. They must be of equal length.\n",
    "\n",
    "```\n",
    "Examples:\n",
    "1. Cars and scar\n",
    "2. Heart and earth\n",
    "3. Star and rats\n",
    "```"
   ]
  },
  {
   "cell_type": "code",
   "execution_count": 2,
   "id": "0526dde0-3647-4f96-8d9e-83e57c2d3cf8",
   "metadata": {},
   "outputs": [],
   "source": [
    "# Poor solution\n",
    "def anagram_check(string1, string2):\n",
    "    return sorted(string) == sorted(string2)"
   ]
  },
  {
   "cell_type": "code",
   "execution_count": 3,
   "id": "7831eb29-7469-4b68-8ab2-489e8b1724c2",
   "metadata": {},
   "outputs": [
    {
     "ename": "NameError",
     "evalue": "name 'angram_check' is not defined",
     "output_type": "error",
     "traceback": [
      "\u001b[0;31m---------------------------------------------------------------------------\u001b[0m",
      "\u001b[0;31mNameError\u001b[0m                                 Traceback (most recent call last)",
      "Cell \u001b[0;32mIn[3], line 1\u001b[0m\n\u001b[0;32m----> 1\u001b[0m \u001b[43mangram_check\u001b[49m(\u001b[38;5;124m\"\u001b[39m\u001b[38;5;124mheart\u001b[39m\u001b[38;5;124m\"\u001b[39m, \u001b[38;5;124m\"\u001b[39m\u001b[38;5;124mearth\u001b[39m\u001b[38;5;124m\"\u001b[39m)\n",
      "\u001b[0;31mNameError\u001b[0m: name 'angram_check' is not defined"
     ]
    }
   ],
   "source": [
    "angram_check(\"heart\", \"earth\")"
   ]
  },
  {
   "cell_type": "code",
   "execution_count": 4,
   "id": "3ae3312d-9113-401a-8569-76ca444caabe",
   "metadata": {},
   "outputs": [
    {
     "name": "stdout",
     "output_type": "stream",
     "text": [
      "[1, 4, 9, 16, 25, 36, 49, 64, 81]\n"
     ]
    }
   ],
   "source": [
    "# Avoid syntactic sugar and \"clever\" solutions\n",
    "x = [number**2 for number in range(1, 10)]\n",
    "print(x)"
   ]
  },
  {
   "cell_type": "code",
   "execution_count": 7,
   "id": "b58f5384-18f8-42cd-8366-23e1b9298942",
   "metadata": {},
   "outputs": [
    {
     "name": "stdout",
     "output_type": "stream",
     "text": [
      "c\n"
     ]
    }
   ],
   "source": [
    "lower_case_c_ascii_code = ord(\"C\")+32\n",
    "upper_case_c = chr(lower_case_c_ascii_code)\n",
    "print(upper_case_c)"
   ]
  },
  {
   "cell_type": "code",
   "execution_count": 8,
   "id": "26311016-a9a6-4202-913c-dcfd44a3094a",
   "metadata": {},
   "outputs": [],
   "source": [
    "# In the popular Harry Potter saga\n",
    "# the villain's name is chosen because their \"human\" name \"Tom Marvolo Riddle\" is \n",
    "# an anagram os \"I am Lord Voldemort\" "
   ]
  },
  {
   "cell_type": "code",
   "execution_count": null,
   "id": "5daecf39-5777-4aa9-9791-12552eeffab4",
   "metadata": {},
   "outputs": [],
   "source": [
    "define myfunction with parameters string1 and string2 (of type string):\n",
    "    string1 = string1 in lower case\n",
    "    string2 = string2 in lower case\n",
    "    string1 = string1 in without spaces\n",
    "    string2 = string2 in without spaces\n",
    "    if string1 and string2 are not of equal length\n",
    "        return False\n",
    "    // handle case where string1 and string2 are of equal length"
   ]
  },
  {
   "cell_type": "code",
   "execution_count": null,
   "id": "22f19ed9-a10d-46f7-b9e5-993738aedaeb",
   "metadata": {},
   "outputs": [],
   "source": [
    "string1 = string2 in letters\n",
    "return True\n"
   ]
  },
  {
   "cell_type": "code",
   "execution_count": 12,
   "id": "b7c4de17-80c5-41f7-9692-ac9dbec74ff8",
   "metadata": {},
   "outputs": [
    {
     "data": {
      "text/plain": [
       "\"\\npseudocode\\n\\ndeclare 2 dicts: dict1, dict2\\nfor letter in string1:\\n    if (letter < 'a' or letter > 'z') and (letter < 'A' or letter > 'Z'):\\n        continue #discard another weird chars\\n    if letter not in dict1:\\n        dict1[letter] = 0 \\n    dict1[letter] += 1\\nfor letter in dict2: \\n    if (letter < 'a' or letter > 'z') and (letter < 'A' or letter > 'Z'):\\n        continue #discard another weird chars\\n    if letter not in dict1:\\n        dict1[letter] = 0 \\n    dict1[letter] += 1\\n    \\nreturn dict1 == dict2\\n#since dicts don't have order, if keys and values are not the same then is not\\n#an anagram. \\n\\n\""
      ]
     },
     "execution_count": 12,
     "metadata": {},
     "output_type": "execute_result"
    }
   ],
   "source": [
    "'''\n",
    "pseudocode\n",
    "\n",
    "declare 2 dicts: dict1, dict2\n",
    "for letter in string1:\n",
    "    if (letter < 'a' or letter > 'z') and (letter < 'A' or letter > 'Z'):\n",
    "        continue #discard another weird chars\n",
    "    if letter not in dict1:\n",
    "        dict1[letter] = 0 \n",
    "    dict1[letter] += 1\n",
    "for letter in dict2: \n",
    "    if (letter < 'a' or letter > 'z') and (letter < 'A' or letter > 'Z'):\n",
    "        continue #discard another weird chars\n",
    "    if letter not in dict1:\n",
    "        dict1[letter] = 0 \n",
    "    dict1[letter] += 1\n",
    "    \n",
    "return dict1 == dict2\n",
    "#since dicts don't have order, if keys and values are not the same then is not\n",
    "#an anagram. \n",
    "\n",
    "'''\n"
   ]
  },
  {
   "cell_type": "code",
   "execution_count": null,
   "id": "4f6510bd-4b86-4a8c-9b08-3129615dae2c",
   "metadata": {},
   "outputs": [],
   "source": []
  }
 ],
 "metadata": {
  "kernelspec": {
   "display_name": "Python 3 (ipykernel)",
   "language": "python",
   "name": "python3"
  },
  "language_info": {
   "codemirror_mode": {
    "name": "ipython",
    "version": 3
   },
   "file_extension": ".py",
   "mimetype": "text/x-python",
   "name": "python",
   "nbconvert_exporter": "python",
   "pygments_lexer": "ipython3",
   "version": "3.11.5"
  }
 },
 "nbformat": 4,
 "nbformat_minor": 5
}
