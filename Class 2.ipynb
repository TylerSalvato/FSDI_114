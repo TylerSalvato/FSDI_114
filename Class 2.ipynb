{
 "cells": [
  {
   "cell_type": "markdown",
   "id": "ce775e76-cd39-4fd5-b112-bcaeb00165d0",
   "metadata": {},
   "source": [
    "Stacks"
   ]
  },
  {
   "cell_type": "code",
   "execution_count": 4,
   "id": "7925dca2-5697-4c45-bd3f-1f39e61a2dc9",
   "metadata": {},
   "outputs": [],
   "source": [
    "# A simplified implementation (relying on built-ins)\n",
    "\n",
    "class Stack:\n",
    "    def __init__(self):\n",
    "        self.items = []\n",
    "\n",
    "    def push(self, value):\n",
    "        self.items.append(value)\n",
    "\n",
    "    def pop(self):\n",
    "        return self.items.pop()\n",
    "\n",
    "    # nice to have methods\n",
    "    def peek (self):\n",
    "        return self.items[len(self.items)-1]\n",
    "\n",
    "    def size(self):\n",
    "        return len(self.items)\n",
    "\n",
    "    def is_empty(self):\n",
    "        return self.items == []\n"
   ]
  },
  {
   "cell_type": "code",
   "execution_count": 5,
   "id": "87bc1c1b-850e-49cb-add6-337faa59b01a",
   "metadata": {},
   "outputs": [],
   "source": [
    "\n",
    "# Function that inverts a string using a stack\n",
    "\n",
    "def invert_str(mystring):\n",
    "    stack = Stack()\n",
    "    for char in mystring:\n",
    "        stack.push(char)\n",
    "    out = \"\"\n",
    "    while not stack.is_empty():\n",
    "            out += stack.pop() # shorthand for \"out = out + stack.pop()\"\n",
    "    return out\n"
   ]
  },
  {
   "cell_type": "code",
   "execution_count": 6,
   "id": "359bd507-f096-45c0-baee-410bda372f30",
   "metadata": {},
   "outputs": [
    {
     "data": {
      "text/plain": [
       "'relyT'"
      ]
     },
     "execution_count": 6,
     "metadata": {},
     "output_type": "execute_result"
    }
   ],
   "source": [
    "invert_str(\"Tyler\")"
   ]
  },
  {
   "cell_type": "code",
   "execution_count": 7,
   "id": "ddde82de-35ec-4f09-87e8-91cf0d9abbc6",
   "metadata": {},
   "outputs": [],
   "source": [
    "# type conversion built-ins in python3\n",
    "\n",
    "a = int(\"5\")\n",
    "b = float(\"3.14\")\n",
    "c = str(5)\n",
    "d = bool(1)\n"
   ]
  },
  {
   "cell_type": "code",
   "execution_count": 8,
   "id": "e5f761a5-a5c2-48c2-a8d6-e8704522609b",
   "metadata": {},
   "outputs": [
    {
     "name": "stdout",
     "output_type": "stream",
     "text": [
      "6\n",
      "5\n",
      "4400572056\n",
      "4400572024\n"
     ]
    }
   ],
   "source": [
    "# Primary data types:\n",
    "# int, bool, float\n",
    "# these all pass by value\n",
    "\n",
    "x = 5\n",
    "y = x\n",
    "\n",
    "x += 1\n",
    "\n",
    "print(x)\n",
    "print(y)\n",
    "print(id(x))\n",
    "print(id(y))\n"
   ]
  },
  {
   "cell_type": "code",
   "execution_count": 9,
   "id": "662218d4-8bc9-4b5d-a184-6bea26857148",
   "metadata": {},
   "outputs": [
    {
     "name": "stdout",
     "output_type": "stream",
     "text": [
      "[1, 2, 3, 4]\n",
      "[1, 2, 3, 4]\n",
      "4621766720\n",
      "4621766720\n"
     ]
    }
   ],
   "source": [
    "# Other data types in python will pass by REFERENCE\n",
    "\n",
    "x = [1, 2, 3]\n",
    "y = x\n",
    "\n",
    "x.append(4)\n",
    "\n",
    "print(x)\n",
    "print(y)\n",
    "print(id(x))\n",
    "print(id(y))\n"
   ]
  },
  {
   "cell_type": "code",
   "execution_count": null,
   "id": "080c025d-54df-4044-a725-22cb52e4f63b",
   "metadata": {},
   "outputs": [],
   "source": [
    "# From scratch implementation of Stack\n",
    "\n",
    "class StackII:\n",
    "    class __Node:\n",
    "        def __init__(self, data):\n",
    "            self.data = data\n",
    "            self.below = None\n",
    "\n",
    "    def __init__(self):\n",
    "        self.top = None\n",
    "\n",
    "    def push(self, value):\n",
    "        new_node = self.__Node(value)\n",
    "        if not self.top: # if self.top == None\n",
    "            self.top = new_node\n",
    "        else:\n",
    "            old_top = self.top\n",
    "            self.top = new_node\n",
    "            new_node.below = old_top\n",
    "\n",
    "    def pop(self):\n",
    "        if self.top:\n",
    "            datum = self.top.data\n",
    "            self.top = self.top.below\n",
    "            return datum\n",
    "        raise IndexError(\"Stack is empty\")\n",
    "        \n",
    "    def peek(self):\n",
    "            return self.top.data\n",
    "\n",
    "    def size(self):\n",
    "        count = 0\n",
    "        current = self.top\n",
    "        while current: # while current != None\n",
    "            current = current.below\n",
    "            count += 1\n",
    "        return count\n",
    "            \n",
    "    def is_empty(self):\n",
    "        return self.top == None \n",
    "\n",
    "    def sum(self):\n",
    "        total = 0\n",
    "        current = self.top\n",
    "        while current:\n",
    "            total += current.data\n",
    "            current = current.below\n",
    "        retun total\n",
    "        "
   ]
  }
 ],
 "metadata": {
  "kernelspec": {
   "display_name": "Python 3 (ipykernel)",
   "language": "python",
   "name": "python3"
  },
  "language_info": {
   "codemirror_mode": {
    "name": "ipython",
    "version": 3
   },
   "file_extension": ".py",
   "mimetype": "text/x-python",
   "name": "python",
   "nbconvert_exporter": "python",
   "pygments_lexer": "ipython3",
   "version": "3.11.5"
  }
 },
 "nbformat": 4,
 "nbformat_minor": 5
}
